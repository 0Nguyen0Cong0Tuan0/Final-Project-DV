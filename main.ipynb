{
 "cells": [
  {
   "cell_type": "markdown",
   "id": "c020e9cf",
   "metadata": {},
   "source": [
    "# **Final Project: Khai thác và trực quan hóa dữ liệu**"
   ]
  },
  {
   "cell_type": "markdown",
   "id": "553214ae",
   "metadata": {},
   "source": [
    "### **Danh sách các thành viên**\n",
    "\n",
    "<center>\n",
    "\n",
    "|         Họ tên         |   MSSV   |\n",
    "| :--------------------- | :------: |\n",
    "| Trần Nguyễn Nhật Cường | 22127048 |\n",
    "|    Nguyễn Công Tuấn    | 22127436 |\n",
    "|     Trần Đăng Tuấn     | 22127438 |\n",
    "| ... | ... |\n",
    "| ... | ... |\n",
    "\n",
    "</center>"
   ]
  },
  {
   "cell_type": "markdown",
   "id": "5ad62486",
   "metadata": {},
   "source": [
    "## **Cài đặt và sử dụng các thư viện cần thiết**"
   ]
  },
  {
   "cell_type": "code",
   "execution_count": null,
   "id": "e2537cbb",
   "metadata": {},
   "outputs": [],
   "source": [
    "import numpy as np\n",
    "import pandas as pd\n",
    "import requests"
   ]
  },
  {
   "cell_type": "markdown",
   "id": "60009adb",
   "metadata": {},
   "source": [
    "**`matplotlib`** được dùng để vẽ biểu đồ trong Python. Có thể dùng để vẽ các loại biểu đồ như\n",
    "histogram, biểu đồ tán xạ (scatter plot), biểu đồ đường (line chart) và biểu đồ cột (bar chart),...\n",
    "\n",
    "**`pandas`** được dùng để xử lý và phân tích dữ liệu dạng bảng và cung cấp cấu trúc dữ liệu như\n",
    "DataFrame và Series để dễ thao tác.\n",
    "\n",
    "**`seaborn`** dùng để vẽ biểu đồ dựa trên thư viện matplotlib nhưng biểu đồ sẽ trông đẹp hơn và cũng hỗ trợ các loại biểu đồ thống kê như violin plot, box plot, heatmap.\n",
    "\n",
    "**`numpy`** được dùng để xử lý các phép toán số học nhanh trên mảng nhiều chiều (arrays) và hỗ trợ các phép toán ma trận, thống kê, đại số tuyến tính cần thiết cho phân tích dữ liệu.\n",
    "\n",
    "\n",
    "**`requests`** được dùng để gửi các yêu cầu HTTP (như GET, POST) nhằm truy vấn dữ liệu từ các API hoặc tải dữ liệu từ Internet về máy tính."
   ]
  },
  {
   "cell_type": "markdown",
   "id": "866b1dc6",
   "metadata": {},
   "source": [
    "## **Thu thập dữ liệu**"
   ]
  },
  {
   "cell_type": "code",
   "execution_count": null,
   "id": "21ccadc4",
   "metadata": {},
   "outputs": [],
   "source": [
    "offset = 0\n",
    "limit = 1000\n",
    "all_records = []\n",
    "\n",
    "while True:\n",
    "    response = requests.get(\n",
    "        url='https://data.vietnam.opendevelopmentmekong.net/en/api/3/action/datastore_search',\n",
    "        params={\n",
    "            'resource_id': 'a03fb5c6-4622-4196-a926-15e9542c4ae8',\n",
    "            'limit': limit,\n",
    "            'offset': offset\n",
    "        }\n",
    "    )\n",
    "    \n",
    "    records = response.json()['result']['records']\n",
    "    if not records:\n",
    "        break\n",
    "    all_records.extend(records)\n",
    "    offset += limit\n",
    "\n",
    "df = pd.DataFrame(all_records)\n",
    "df.head()"
   ]
  },
  {
   "cell_type": "markdown",
   "id": "9ba808c1",
   "metadata": {},
   "source": [
    "## **Khám phá dữ liệu**"
   ]
  },
  {
   "cell_type": "markdown",
   "id": "f52f67ed",
   "metadata": {},
   "source": [
    "<div align='center'>\n",
    "\n",
    "| Cột | Mô tả | \n",
    "| --- | --- |\n",
    "| `_id` | \tID tự động của hệ thống để định danh từng hàng trong cơ sở dữ liệu |\n",
    "| `ID` | Mã số định danh riêng của từng khu đất/lô đất |\n",
    "| `Latitude` | \tVĩ độ (tọa độ địa lý) của khu đất/lô đất |\n",
    "| `Longtitude` | Kinh độ (tọa độ địa lý) của khu đất/lô đất. |\n",
    "| `Province` | Tên tỉnh/thành phố nơi khu đất/lô đất tọa lạc. |\n",
    "| `District` | Tên quận/huyện nơi khu đất/lô đất tọa lạc. |\n",
    "| `Commune` | Tên xã/phường/thị trấn nơi khu đất/lô đất tọa lạc. |\n",
    "| `Sub-regional` | \tKhu vực/tiểu vùng nhỏ hơn trong xã hoặc huyện (thường là cụm nhỏ hơn). |\n",
    "| `Plot` | Số hiệu thửa đất (Plot number). |\n",
    "| `Lot` | Số hiệu lô đất trong thửa đất. |\n",
    "| `Site` | Tên cụ thể của khu vực/quần thể đất (ví dụ: tên thôn, làng). |\n",
    "| `Forest owner\t` | Tên chủ sở hữu hoặc đơn vị quản lý rừng. |\n",
    "| `Land type` | Loại hình đất tại khu vực (ví dụ: rừng tự nhiên trung bình, đất rừng trồng...). |\n",
    "| `Original resources of forest` | Loại tài nguyên rừng ban đầu (ví dụ: rừng tự nhiên, rừng trồng...). |\n",
    "| `Date` | Ngày ghi nhận hoặc cập nhật thông tin khu đất/lô đất. |\n",
    "| `Priority` | Mức độ ưu tiên quản lý hoặc bảo vệ khu đất/lô đất (ví dụ: High - Cao). | \n",
    "| `Contractor` | Tên nhà thầu hoặc cá nhân phụ trách khai thác hoặc trồng rừng (nếu có). |\n",
    "| `Status` | Tình trạng hiện tại của khu đất/lô đất (ví dụ: Verified - Đã xác minh). |\n",
    "\n",
    "</div>"
   ]
  },
  {
   "cell_type": "code",
   "execution_count": null,
   "id": "843ab04c",
   "metadata": {},
   "outputs": [],
   "source": [
    "df.info()"
   ]
  },
  {
   "cell_type": "markdown",
   "id": "ce3ac54d",
   "metadata": {},
   "source": [
    "## **Tiền xử lý dữ liệu**"
   ]
  },
  {
   "cell_type": "code",
   "execution_count": null,
   "id": "c5102470",
   "metadata": {},
   "outputs": [],
   "source": [
    "df.replace(to_replace='', value=np.nan, inplace=True)\n",
    "round(df.isna().sum() / df.shape[0] * 100, 2)"
   ]
  },
  {
   "cell_type": "code",
   "execution_count": null,
   "id": "e7e48b4c",
   "metadata": {},
   "outputs": [],
   "source": [
    "df.drop(columns=['_id', 'ID', 'Contractor'], inplace=True)\n",
    "df.head()"
   ]
  },
  {
   "cell_type": "code",
   "execution_count": null,
   "id": "89e3a2db",
   "metadata": {},
   "outputs": [],
   "source": [
    "df.rename(columns={\n",
    "    'Longtitude': 'Longitude'\n",
    "}, inplace=True)"
   ]
  },
  {
   "cell_type": "code",
   "execution_count": null,
   "id": "889771a7",
   "metadata": {},
   "outputs": [],
   "source": [
    "df.duplicated().sum()"
   ]
  },
  {
   "cell_type": "code",
   "execution_count": null,
   "id": "17e51f6b",
   "metadata": {},
   "outputs": [],
   "source": [
    "df.drop_duplicates(inplace=True)\n",
    "df.duplicated().sum()"
   ]
  },
  {
   "cell_type": "code",
   "execution_count": null,
   "id": "4f4229af",
   "metadata": {},
   "outputs": [],
   "source": [
    "df['Date'] = pd.to_datetime(arg=df['Date'], format='%Y-%m-%dT%H:%M:%S')\n",
    "df['Date'].head()"
   ]
  },
  {
   "cell_type": "code",
   "execution_count": null,
   "id": "913e317a",
   "metadata": {},
   "outputs": [],
   "source": [
    "for col in df.select_dtypes(include='object').columns:\n",
    "    print(f'{col}: {df[col].unique()}')"
   ]
  },
  {
   "cell_type": "markdown",
   "id": "12a81027",
   "metadata": {},
   "source": [
    "**Nhận xét**\n",
    "- `Nam Can` có thể là xã **Nậm Càn** hoặc **Nậm Cắn**, cần dựa vào vĩ độ và kinh độ để xác định chính xác đó là xã nào."
   ]
  },
  {
   "cell_type": "code",
   "execution_count": null,
   "id": "d3ff3021",
   "metadata": {},
   "outputs": [],
   "source": [
    "df[df['Commune'] == 'Nam Can']"
   ]
  },
  {
   "cell_type": "markdown",
   "id": "b43bf059",
   "metadata": {},
   "source": [
    "**Nhận xét**\n",
    "- Dựa vào **vĩ độ** và **kinh độ**, nhóm xác định được cả 3 vị trí này đều thuộc xã **Nam Càn**, huyện **Kỳ Sơn**, tỉnh **Nghệ An**."
   ]
  },
  {
   "cell_type": "markdown",
   "id": "b06565eb",
   "metadata": {},
   "source": [
    "**Tổng kết các tỉnh/huyện/xã**\n",
    "- **Lâm Đồng (20)**:\n",
    "    - **Di Linh (14)**: Bảo Thuận, Đinh Lạc, Đinh Trang Thượng, Gia Bắc, Gia Hiệp, Gung Ré, Hòa Bắc, Hòa Trung, Liên Đầm, Sơn Điền, Tam Bố, Tân Châu, Tân Lâm, Tân Thượng.\n",
    "    - **Lạc Dương (6)**: Thị trấn Lạc Dương, Đạ Chais, Đạ Nhim, Đạ Sar, Đưng KNớ, Lát.\n",
    "\n",
    "- **Nghệ An (15)**:\n",
    "    - **Tương Dương (6)**: Thị trấn Thạch Giám, Tam Đinh, Tam Hợp, Tam Quang, Tam Thái, Yên Thắng.\n",
    "    - **Kỳ Sơn (9)**: Chiêu Lưu, Hữu Kiệm, Hữu Lập, Mường Típ, Na Ngoi, Nậm Càn, Phà Đánh, Tà Cạ, Tây Sơn."
   ]
  },
  {
   "cell_type": "code",
   "execution_count": null,
   "id": "23c41a66",
   "metadata": {},
   "outputs": [],
   "source": [
    "df['Province'] = df['Province'].replace(to_replace={\n",
    "    'Lam Dong': 'Lâm Đồng',\n",
    "    'Nghe An': 'Nghệ An'\n",
    "})\n",
    "\n",
    "df['District'] = df['District'].replace(to_replace={\n",
    "    # tỉnh Lâm Đồng\n",
    "    'Lac Duong': 'Lạc Dương',\n",
    "    # tỉnh Nghệ An\n",
    "    'Tuong Duong': 'Tương Dương',\n",
    "    'Ky Son': 'Kỳ Sơn'\n",
    "})\n",
    "\n",
    "df['Commune'] = df['Commune'].replace(to_replace={\n",
    "    # huyện Di Linh\n",
    "    'Bao Thuan': 'Bảo Thuận', 'Đinh Lạc': 'Đinh Lạc',\n",
    "    'Dinh Trang Thuong': 'Đinh Trang Thượng',\n",
    "    'Gia Bac': 'Gia Bắc', 'Gia Hiep': 'Gia Hiệp',\n",
    "    'Gung Re': 'Gung Ré', 'Hoa Bac': 'Hòa Bắc',\n",
    "    'Hoa Trung': 'Hòa Trung', 'Lien Dam': 'Liên Đầm',\n",
    "    'Son Dien': 'Sơn Điền', 'Tam Bo': 'Tam Bố',\n",
    "    'Tan Chau': 'Tân Châu', 'Tan Lam': 'Tân Lâm',\n",
    "    'Tan Thuong': 'Tân Thượng',\n",
    "    # huyện Lạc Dương\n",
    "    'Lac Duong Town': 'Lạc Dương', 'Da Chais': 'Đạ Chais',\n",
    "    'Da Sar': 'Đạ Sar', 'Dung KN\\'o': 'Đưng KNớ',\n",
    "    'Lat': 'Lát',\n",
    "    # huyện Tương Dương\n",
    "    'Thach Giam': 'Thạch Giám', 'Tam Dinh': 'Tam Đinh',\n",
    "    'Tam Hop': 'Tam Hợp', 'Tam Thai': 'Tam Thái',\n",
    "    'Yen Thang': 'Yên Thắng',\n",
    "    # huyện Kỳ Sơn\n",
    "    'Chieu Luu': 'Chiêu Lưu', 'Huu Kiem': 'Hữu Kiệm',\n",
    "    'Huu Lap': 'Hữu Lập', 'Muong Tip': 'Mường Típ',\n",
    "    'Nam Can': 'Nậm Càn', 'Pha Danh': 'Phà Đánh',\n",
    "    'Ta Ca': 'Tà Cạ', 'Tay Son': 'Tây Sơn'\n",
    "})"
   ]
  },
  {
   "cell_type": "markdown",
   "id": "af8c9b1e",
   "metadata": {},
   "source": [
    "**Forest owner**\n",
    "\n",
    "<center>\n",
    "\n",
    "|             <center> Tên tiếng Anh </center>              |          <center> Tên tiếng Việt </center>          |\n",
    "|:----------------------------------------------------------|:----------------------------------------------------|\n",
    "| Forestry One Member Limited Liability Company Di Linh     | Công ty TNHH một thành viên lâm nghiệp Di Linh.     |\n",
    "| Board of protection forest management Tan Thuong          | Ban Quản lý rừng Tân Thượng.                        |\n",
    "| Group Joint Stock Company Tan Mai                         | Công ty cổ phần Tập đoàn Tân Mai.                   |\n",
    "| Community of  Da Hong village                             | Cộng đồng thôn Đà Hòng.                             |\n",
    "| Forestry One Member Limited Liability Company Bao Thuan   | Công ty TNHH một thành viên lâm nghiệp Bảo Thuận.   |\n",
    "| Commune People's Committee                                | Ủy ban nhân dân xã.                                 |\n",
    "| Forestry One Member Limited Liability Company Tam Hiep    | Công ty TNHH một thành viên lâm nghiệp Tam Hiệp.    |\n",
    "| Private enterprise Tan Minh                               | Doanh Nghiệp Tư Nhân Tân Minh.                      |\n",
    "| BQL RPH Hũa Bắc - Hũa Nam                                 | Ban Quản lý Rừng phòng hộ Hòa Bắc - Hòa Nam.        |\n",
    "| Forestry One Member Limited Liability Company Phat Lam    | -                                                   |\n",
    "| Limited Liability Company Tien Le                         | Công ty TNHH xuất nhập khẩu Tiến Lê.                |\n",
    "| Private enterprise Le Tam                                 | -                                                   |\n",
    "| Limited Liability Company Vinh Bao                        | Công ty TNHH Vĩnh Bảo.                              |\n",
    "| National park Pu Mat                                      | Vườn quốc gia Pù Mát.                               |\n",
    "| Board of protection forest management Tuong Duong         | Ban Quản lý rừng phòng hộ Tương Dương.              |\n",
    "| Forestry One Member Limited Liability Company Tuong Duong | Công ty TNHH một thành viên lâm nghiệp Tương Dương. |\n",
    "| HGD                                                       | Hộ gia đình                                         |\n",
    "| Limited Liability Company Lam Sinh Tai                    | Công ty TNHH Lâm Sinh Tài                           |\n",
    "| Community of  village 6                                   | Cộng đồng thôn 6                                    |\n",
    "| Youth Volunteer Team                                      | Đội thanh niên tình nguyện                          |\n",
    "| Board of protection forest management Ky Son              | Ban Quản lý rừng phòng hộ Kỳ Sơn                    |\n",
    "\n",
    "</center>"
   ]
  },
  {
   "cell_type": "code",
   "execution_count": null,
   "id": "b54923a1",
   "metadata": {},
   "outputs": [],
   "source": [
    "df['Forest owner'] = df['Forest owner'].replace(to_replace={\n",
    "    'Forestry One Member Limited Liability Company Di Linh': 'Công ty TNHH một thành viên lâm nghiệp Di Linh',\n",
    "    'Board of protection forest management Tan Thuong': 'Ban Quản lý rừng Tân Thượng',\n",
    "    'Group Joint Stock Company Tan Mai': 'Công ty cổ phần Tập đoàn Tân Mai',\n",
    "    'Community of  Da Hong village': 'Cộng đồng thôn Đà Hòng',\n",
    "    'Forestry One Member Limited Liability Company Bao Thuan': 'Công ty TNHH một thành viên lâm nghiệp Bảo Thuận',\n",
    "    'Commune People\\'s Committee': 'Ủy ban nhân dân xã',\n",
    "    'Forestry One Member Limited Liability Company Tam Hiep': 'Công ty TNHH một thành viên lâm nghiệp Tam Hiệp',\n",
    "    'Private enterprise Tan Minh': 'Doanh Nghiệp Tư Nhân Tân Minh',\n",
    "    'BQL RPH Hũa Bắc - Hũa Nam': 'Ban Quản lý Rừng phòng hộ Hòa Bắc - Hòa Nam',\n",
    "    'Forestry One Member Limited Liability Company Phat Lam': 'Không rõ',\n",
    "    'Limited Liability Company Tien Le': 'Công ty TNHH xuất nhập khẩu Tiến Lê',\n",
    "    'Private enterprise Le Tam': 'Không rõ',\n",
    "    'Limited Liability Company Vinh Bao': 'Công ty TNHH Vĩnh Bảo',\n",
    "    'National park Pu Mat': 'Vườn quốc gia Pù Mát',\n",
    "    'Board of protection forest management Tuong Duong': 'Ban Quản lý rừng phòng hộ Tương Dương',\n",
    "    'Forestry One Member Limited Liability Company Tuong Duong': 'Công ty TNHH một thành viên lâm nghiệp Tương Dương',\n",
    "    'HGD': 'Hộ gia đình',\n",
    "    'Limited Liability Company Lam Sinh Tai': 'Công ty TNHH Lâm Sinh Tài',\n",
    "    'Community of  village 6': 'Cộng đồng thôn 6',\n",
    "    'Board of protection forest management Ky Son': 'Ban Quản lý rừng phòng hộ Kỳ Sơn',\n",
    "    np.nan: 'Không rõ'\n",
    "})\n",
    "df['Forest owner'] = df['Forest owner'].str.replace(pat='Youth Volunteer Team', repl='Đội thanh niên tình nguyện')\n",
    "\n",
    "df['Forest owner'].unique()"
   ]
  },
  {
   "cell_type": "code",
   "execution_count": null,
   "id": "d88f053a",
   "metadata": {},
   "outputs": [],
   "source": [
    "df['Land type'].unique()"
   ]
  }
 ],
 "metadata": {
  "kernelspec": {
   "display_name": "venv",
   "language": "python",
   "name": "python3"
  },
  "language_info": {
   "codemirror_mode": {
    "name": "ipython",
    "version": 3
   },
   "file_extension": ".py",
   "mimetype": "text/x-python",
   "name": "python",
   "nbconvert_exporter": "python",
   "pygments_lexer": "ipython3",
   "version": "3.12.3"
  }
 },
 "nbformat": 4,
 "nbformat_minor": 5
}
