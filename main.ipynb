{
 "cells": [
  {
   "cell_type": "markdown",
   "id": "c020e9cf",
   "metadata": {},
   "source": [
    "# **Final Project: Khai thác và trực quan hóa dữ liệu**"
   ]
  },
  {
   "cell_type": "markdown",
   "id": "553214ae",
   "metadata": {},
   "source": [
    "### **Danh sách các thành viên**\n",
    "\n",
    "<center>\n",
    "\n",
    "|         Họ tên         |   MSSV   |\n",
    "| :--------------------- | :------: |\n",
    "| Trần Nguyễn Nhật Cường | 22127048 |\n",
    "|    Nguyễn Công Tuấn    | 22127436 |\n",
    "|     Trần Đăng Tuấn     | 22127438 |\n",
    "| ... | ... |\n",
    "| ... | ... |\n",
    "\n",
    "</center>"
   ]
  },
  {
   "cell_type": "markdown",
   "id": "5ad62486",
   "metadata": {},
   "source": [
    "## **Cài đặt và sử dụng các thư viện cần thiết**"
   ]
  },
  {
   "cell_type": "code",
   "execution_count": null,
   "id": "e2537cbb",
   "metadata": {},
   "outputs": [],
   "source": [
    "import matplotlib.pyplot as plt\n",
    "import numpy as np\n",
    "import pandas as pd\n",
    "import seaborn as sns\n",
    "import requests\n",
    "\n",
    "import copy"
   ]
  },
  {
   "cell_type": "markdown",
   "id": "60009adb",
   "metadata": {},
   "source": [
    "**`matplotlib`** được dùng để vẽ biểu đồ trong Python. Có thể dùng để vẽ các loại biểu đồ như\n",
    "histogram, biểu đồ tán xạ (scatter plot), biểu đồ đường (line chart) và biểu đồ cột (bar chart),...\n",
    "\n",
    "**`pandas`** được dùng để xử lý và phân tích dữ liệu dạng bảng và cung cấp cấu trúc dữ liệu như\n",
    "DataFrame và Series để dễ thao tác.\n",
    "\n",
    "**`seaborn`** dùng để vẽ biểu đồ dựa trên thư viện matplotlib nhưng biểu đồ sẽ trông đẹp hơn và cũng hỗ trợ các loại biểu đồ thống kê như violin plot, box plot, heatmap.\n",
    "\n",
    "**`numpy`** được dùng để xử lý các phép toán số học nhanh trên mảng nhiều chiều (arrays) và hỗ trợ các phép toán ma trận, thống kê, đại số tuyến tính cần thiết cho phân tích dữ liệu.\n",
    "\n",
    "\n",
    "**`requests`** được dùng để gửi các yêu cầu HTTP (như GET, POST) nhằm truy vấn dữ liệu từ các API hoặc tải dữ liệu từ Internet về máy tính."
   ]
  },
  {
   "cell_type": "markdown",
   "id": "866b1dc6",
   "metadata": {},
   "source": [
    "## **Thu thập dữ liệu**"
   ]
  },
  {
   "cell_type": "code",
   "execution_count": null,
   "id": "21ccadc4",
   "metadata": {},
   "outputs": [],
   "source": [
    "offset = 0\n",
    "limit = 1000\n",
    "all_records = []\n",
    "\n",
    "while True:\n",
    "    url = f'https://data.vietnam.opendevelopmentmekong.net/en/api/3/action/datastore_search'\n",
    "    params = {\n",
    "        'resource_id': 'a03fb5c6-4622-4196-a926-15e9542c4ae8',\n",
    "        'limit': limit,\n",
    "        'offset': offset\n",
    "    }\n",
    "    response = requests.get(url, params=params)\n",
    "    \n",
    "    if response.status_code == 200:\n",
    "        data = response.json()\n",
    "        records = data['result']['records']\n",
    "        \n",
    "        if not records:\n",
    "            break\n",
    "        \n",
    "        all_records.extend(records)\n",
    "        offset += limit\n",
    "    else:\n",
    "        break\n",
    "\n",
    "DATA = pd.DataFrame(all_records)\n"
   ]
  },
  {
   "cell_type": "code",
   "execution_count": null,
   "id": "33a19462",
   "metadata": {},
   "outputs": [],
   "source": [
    "data = copy.deepcopy(DATA)"
   ]
  },
  {
   "cell_type": "code",
   "execution_count": null,
   "id": "1819489d",
   "metadata": {},
   "outputs": [],
   "source": [
    "data.head()"
   ]
  },
  {
   "cell_type": "markdown",
   "id": "9ba808c1",
   "metadata": {},
   "source": [
    "## **Khám phá dữ liệu**"
   ]
  },
  {
   "cell_type": "markdown",
   "id": "f52f67ed",
   "metadata": {},
   "source": [
    "<div align='center'>\n",
    "\n",
    "| Cột | Mô tả | \n",
    "| --- | --- |\n",
    "| `_id` | \tID tự động của hệ thống để định danh từng hàng trong cơ sở dữ liệu |\n",
    "| `ID` | Mã số định danh riêng của từng khu đất/lô đất |\n",
    "| `Latitude` | \tVĩ độ (tọa độ địa lý) của khu đất/lô đất |\n",
    "| `Longtitude` | Kinh độ (tọa độ địa lý) của khu đất/lô đất. |\n",
    "| `Province` | Tên tỉnh/thành phố nơi khu đất/lô đất tọa lạc. |\n",
    "| `District` | Tên quận/huyện nơi khu đất/lô đất tọa lạc. |\n",
    "| `Commune` | Tên xã/phường/thị trấn nơi khu đất/lô đất tọa lạc. |\n",
    "| `Sub-regional` | \tKhu vực/tiểu vùng nhỏ hơn trong xã hoặc huyện (thường là cụm nhỏ hơn). |\n",
    "| `Plot` | Số hiệu thửa đất (Plot number). |\n",
    "| `Lot` | Số hiệu lô đất trong thửa đất. |\n",
    "| `Site` | Tên cụ thể của khu vực/quần thể đất (ví dụ: tên thôn, làng). |\n",
    "| `Forest owner\t` | Tên chủ sở hữu hoặc đơn vị quản lý rừng. |\n",
    "| `Land type` | Loại hình đất tại khu vực (ví dụ: rừng tự nhiên trung bình, đất rừng trồng...). |\n",
    "| `Original resources of forest` | Loại tài nguyên rừng ban đầu (ví dụ: rừng tự nhiên, rừng trồng...). |\n",
    "| `Date` | Ngày ghi nhận hoặc cập nhật thông tin khu đất/lô đất. |\n",
    "| `Priority` | Mức độ ưu tiên quản lý hoặc bảo vệ khu đất/lô đất (ví dụ: High - Cao). | \n",
    "| `Contractor` | Tên nhà thầu hoặc cá nhân phụ trách khai thác hoặc trồng rừng (nếu có). |\n",
    "| `Status` | Tình trạng hiện tại của khu đất/lô đất (ví dụ: Verified - Đã xác minh). |\n",
    "\n",
    "</div>"
   ]
  },
  {
   "cell_type": "code",
   "execution_count": null,
   "id": "843ab04c",
   "metadata": {},
   "outputs": [],
   "source": [
    "data.info()"
   ]
  },
  {
   "cell_type": "markdown",
   "id": "e19243e0",
   "metadata": {},
   "source": [
    "**Những thuộc tính có chứa các hàng bị thiếu dữ liệu** "
   ]
  },
  {
   "cell_type": "code",
   "execution_count": null,
   "id": "053730bc",
   "metadata": {},
   "outputs": [],
   "source": [
    "data.replace(\"\", np.nan, inplace=True)\n",
    "\n",
    "null_counts = data.isnull().sum()\n",
    "\n",
    "for col, num_nulls in null_counts.items():\n",
    "    if num_nulls > 0:\n",
    "        print(f\"{col} has '{num_nulls}' null records \")"
   ]
  },
  {
   "cell_type": "markdown",
   "id": "0bbd4542",
   "metadata": {},
   "source": [
    "**Nhận xét** - Vậy các thuộc tính `Commune`, `Sub-regional`, `Plot`, `Lot`, `Site`, `Forest owner`, `Land type`, `Date` và `Contractor`"
   ]
  },
  {
   "cell_type": "markdown",
   "id": "7e61bc35",
   "metadata": {},
   "source": [
    "**Kiểm tra có dữ liệu trùng lặp hay không**"
   ]
  },
  {
   "cell_type": "code",
   "execution_count": null,
   "id": "60f65b75",
   "metadata": {},
   "outputs": [],
   "source": [
    "print('Số lượng các hàng bị trùng lặp là: ', data.duplicated().sum())"
   ]
  },
  {
   "cell_type": "markdown",
   "id": "ff28ceda",
   "metadata": {},
   "source": [
    "## **Tiền xử lý dữ liệu**"
   ]
  },
  {
   "cell_type": "markdown",
   "id": "e6882724",
   "metadata": {},
   "source": [
    "**Xử lý dữ liệu bị mất**"
   ]
  },
  {
   "cell_type": "markdown",
   "id": "86428bc8",
   "metadata": {},
   "source": [
    "**Xử lý cột Commune**\n",
    "\n",
    "Điền vào các hàng chứa giá trị của thuộc tính `Commune` bị mất bằng cách gom nhóm `Province` và `District` và sau đó xem liệu `Commune` bị mất đó thuộc nhóm `Province` và `District` nào\n",
    "\n",
    "**Xử lý cột Sub-regional**\n",
    "\n",
    "Điền vào các hàng chứa giá trị của thuộc tính `Sub-regional` bị mất bằng cách gom nhóm `Province`, `District` và `Commune` và sau đó xem liệu `Sub-regional` bị mất đó thuộc nhóm `Province`, `District` và `Commune`\n"
   ]
  },
  {
   "cell_type": "code",
   "execution_count": null,
   "id": "2d88b23e",
   "metadata": {},
   "outputs": [],
   "source": [
    "data['Commune'] = data.groupby(['Province', 'District'])['Commune'].transform(lambda x: x.ffill().bfill())\n",
    "\n",
    "data['Sub-regional'] = data.groupby(['Province', 'District', 'Commune'])['Sub-regional'].transform(lambda x: x.ffill().bfill())"
   ]
  },
  {
   "cell_type": "markdown",
   "id": "38672974",
   "metadata": {},
   "source": [
    "**Xử lý cột Plot**\n",
    "\n",
    "Kiểm tra xem liệu giá trị của cột `Plot` có phải là duy nhất (unique) trong nhóm `Province`, `District`, `Commune` và `Sub-regional` không?"
   ]
  },
  {
   "cell_type": "code",
   "execution_count": null,
   "id": "c403bcd7",
   "metadata": {},
   "outputs": [],
   "source": [
    "grouped_plot = data.groupby(['Province', 'District', 'Commune', 'Sub-regional'])['Plot'].unique()\n",
    "\n",
    "for group, plots in grouped_plot.items():\n",
    "    print(f\"Nhóm {group} có plot: {plots}\")"
   ]
  },
  {
   "cell_type": "markdown",
   "id": "21b3ba6c",
   "metadata": {},
   "source": [
    "**Nhận xét** - Ta thấy rằng giá trị của cột `Plot` không phải là duy nhất (unique) trong nhóm `Province`, `District`, `Commune` và `Sub-regional`\n",
    "\n",
    "\n",
    "Cách xử lý thay thế: Xem các hàng chứa thuộc tính `Plot` bị mất gần với `Longtitude` và `Latitude` nhất trong cùng một nhóm `Province`, `District`, `Commune` và `Sub-regional`. Nhưng nếu nhóm `Province`, `District`, `Commune` và `Sub-regional` không có `Plot` nào thì sẽ mặc định điền là 0"
   ]
  },
  {
   "cell_type": "code",
   "execution_count": null,
   "id": "d15a20f6",
   "metadata": {},
   "outputs": [],
   "source": [
    "groups = data.groupby(['Province', 'District', 'Commune', 'Sub-regional'])\n",
    "\n",
    "for name, group in groups:\n",
    "    missing_plot = group[group['Plot'].isnull()]\n",
    "    available_plot = group[group['Plot'].notnull()]\n",
    "    \n",
    "    if not missing_plot.empty and not available_plot.empty:\n",
    "        for idx_missing, row_missing in missing_plot.iterrows():\n",
    "            lon_lat_missing = np.array([row_missing['Longtitude'], row_missing['Latitude']])\n",
    "            lon_lat_available = available_plot[['Longtitude', 'Latitude']].values\n",
    "\n",
    "            distances = np.sqrt(np.sum((lon_lat_available - lon_lat_missing)**2, axis=1))\n",
    "            \n",
    "            nearest_plot = available_plot.iloc[distances.argmin()]['Plot']\n",
    "            \n",
    "            data.at[idx_missing, 'Plot'] = nearest_plot\n",
    "    elif available_plot.empty:\n",
    "        data.loc[missing_plot.index, 'Plot'] = 0"
   ]
  },
  {
   "cell_type": "markdown",
   "id": "0b7e53b9",
   "metadata": {},
   "source": [
    "**Xử lý cột Lot**\n",
    "\n",
    "Kiểm tra xem liệu giá trị của cột `Lot` có phải là duy nhất (unique) trong nhóm `Province`, `District`, `Commune`, `Sub-regional` và `Plot` không?"
   ]
  },
  {
   "cell_type": "code",
   "execution_count": null,
   "id": "12fbb4f4",
   "metadata": {},
   "outputs": [],
   "source": [
    "grouped_lot = data.groupby(['Province', 'District', 'Commune', 'Sub-regional', 'Plot'])['Lot'].unique()\n",
    "\n",
    "for group, lots in grouped_lot.items():\n",
    "    print(f\"Nhóm {group} có lot: {lots}\")"
   ]
  },
  {
   "cell_type": "markdown",
   "id": "3b0561c0",
   "metadata": {},
   "source": [
    "**Nhận xét** - Ta thấy rằng giá trị của cột `Lot` không phải là duy nhất (unique) trong nhóm `Province`, `District`, `Commune`, `Sub-regional` và `Plot`\n",
    "\n",
    "\n",
    "Cách xử lý thay thế: Xem các hàng chứa thuộc tính `Lot` bị mất gần với `Longtitude` và `Latitude` nhất trong cùng một nhóm `Province`, `District`, `Commune`, `Sub-regional` và `Plot`. Nhưng nếu nhóm `Province`, `District`, `Commune`, `Sub-regional` và `Plot` không có `Lot` nào thì sẽ mặc định điền là 0"
   ]
  },
  {
   "cell_type": "code",
   "execution_count": null,
   "id": "f71ee124",
   "metadata": {},
   "outputs": [],
   "source": [
    "groups = data.groupby(['Province', 'District', 'Commune', 'Sub-regional', 'Plot'])\n",
    "\n",
    "for name, group in groups:\n",
    "    missing_plot = group[group['Lot'].isnull()]\n",
    "    available_plot = group[group['Lot'].notnull()]\n",
    "    \n",
    "    if not missing_plot.empty and not available_plot.empty:\n",
    "        for idx_missing, row_missing in missing_plot.iterrows():\n",
    "            lon_lat_missing = np.array([row_missing['Longtitude'], row_missing['Latitude']])\n",
    "            lon_lat_available = available_plot[['Longtitude', 'Latitude']].values\n",
    "\n",
    "            distances = np.sqrt(np.sum((lon_lat_available - lon_lat_missing)**2, axis=1))\n",
    "            \n",
    "            nearest_plot = available_plot.iloc[distances.argmin()]['Lot']\n",
    "            \n",
    "            data.at[idx_missing, 'Lot'] = nearest_plot\n",
    "    elif available_plot.empty:\n",
    "        data.loc[missing_plot.index, 'Lot'] = 0"
   ]
  },
  {
   "cell_type": "markdown",
   "id": "7655ac6a",
   "metadata": {},
   "source": [
    "**Xử lý cột Site**\n",
    "\n",
    "Vì `Site` là tên cụ thể của khu vực/quần thể đất (ví dụ: tên thôn, làng) nên nếu nó không có thì có thể là nó chưa được người dân tại nơi đây đặt tên. Vì thế chúng ta sẽ điền vào các hàng có chứa `Site` bị thiếu là **Unknown**"
   ]
  },
  {
   "cell_type": "code",
   "execution_count": null,
   "id": "0e729ccf",
   "metadata": {},
   "outputs": [],
   "source": [
    "data['Site'] = data['Site'].fillna('Unknown')"
   ]
  },
  {
   "cell_type": "markdown",
   "id": "dc519518",
   "metadata": {},
   "source": [
    "**Xử lý cột Forest owner**\n",
    "\n",
    "Vì `Forest owner` là tên chủ sở hữu hoặc đơn vị quản lý rừng. nên nếu nó không có thì tức là nó đang không được sở hữu bởi bất kì cá nhân, tổ chức hoặc đơn vị quản lý rừng nào. Vì thế chúng ta sẽ đinef vào các hàng có chứa `Forest owner` bị thiếu là **Unknown**"
   ]
  },
  {
   "cell_type": "code",
   "execution_count": null,
   "id": "ec588d99",
   "metadata": {},
   "outputs": [],
   "source": [
    "data['Forest owner'] = data['Forest owner'].fillna('Unknown')"
   ]
  },
  {
   "cell_type": "markdown",
   "id": "110e7f74",
   "metadata": {},
   "source": [
    "**Xử lý cột Land type**\n",
    "\n",
    "Những hàng nào có giá trị bị thiếu ở cột `Land type` sẽ được điền vào bởi những hàng có cùng giá trị nhóm `Province`, `District`, `Commune`, `Sub-regional` và `Plot`"
   ]
  },
  {
   "cell_type": "code",
   "execution_count": null,
   "id": "f61e2e82",
   "metadata": {},
   "outputs": [],
   "source": [
    "groups = data.groupby(['Province', 'District', 'Commune', 'Sub-regional', 'Plot'])\n",
    "\n",
    "for name, group in groups:\n",
    "    missing_landtype = group[group['Land type'].isnull()]\n",
    "    available_landtype = group[group['Land type'].notnull()]\n",
    "    \n",
    "    if not missing_landtype.empty and not available_landtype.empty:\n",
    "        landtype_value = available_landtype.iloc[0]['Land type']\n",
    "        \n",
    "        data.loc[missing_landtype.index, 'Land type'] = landtype_value"
   ]
  },
  {
   "cell_type": "markdown",
   "id": "eb6b530f",
   "metadata": {},
   "source": [
    "**Xử lý cột Date**"
   ]
  },
  {
   "cell_type": "code",
   "execution_count": null,
   "id": "24bb4209",
   "metadata": {},
   "outputs": [],
   "source": [
    "print('Tỉ lệ giá trị bị mất (null) của cột Contractor so với bộ dữ liệu: ', round(data['Date'].isnull().sum() / data.shape[0], 4))"
   ]
  },
  {
   "cell_type": "markdown",
   "id": "c5d4f2d0",
   "metadata": {},
   "source": [
    "Do tỉ lệ giá trị bị mất (null) của cột `Date` là quá nhỏ so với toàn bộ dữ liệu nên ta sẽ bỏ hàng bị thiếu giá trị của thuộc tính `Date`"
   ]
  },
  {
   "cell_type": "code",
   "execution_count": null,
   "id": "2593ccb7",
   "metadata": {},
   "outputs": [],
   "source": [
    "data.drop(data[data['Date'].isnull()].index, inplace=True)"
   ]
  },
  {
   "cell_type": "markdown",
   "id": "a97ee977",
   "metadata": {},
   "source": [
    "**Xử lý cột Contractor**"
   ]
  },
  {
   "cell_type": "code",
   "execution_count": null,
   "id": "0b1796a6",
   "metadata": {},
   "outputs": [],
   "source": [
    "print('Tỉ lệ giá trị bị mất (null) của cột Contractor so với bộ dữ liệu: ', data['Contractor'].isnull().sum() / data.shape[0])"
   ]
  },
  {
   "cell_type": "markdown",
   "id": "9e433948",
   "metadata": {},
   "source": [
    "Do tỉ lệ giá trị bị mất (null) của cột `Contractor` là quá lớn so với toàn bộ dữ liệu nên ta sẽ bỏ cột `Contractor`"
   ]
  },
  {
   "cell_type": "code",
   "execution_count": null,
   "id": "5d7968fe",
   "metadata": {},
   "outputs": [],
   "source": [
    "data.drop(columns=['Contractor'], inplace=True)"
   ]
  },
  {
   "cell_type": "markdown",
   "id": "1425bf19",
   "metadata": {},
   "source": [
    "**Kết quả sau khi xử lý các giá trị bị mất**"
   ]
  },
  {
   "cell_type": "code",
   "execution_count": null,
   "id": "5df9177b",
   "metadata": {},
   "outputs": [],
   "source": [
    "null_counts = data.isnull().sum()\n",
    "\n",
    "for col, num_nulls in null_counts.items():\n",
    "    if num_nulls > 0:\n",
    "        print(f\"{col} has '{num_nulls}' null records \")"
   ]
  }
 ],
 "metadata": {
  "kernelspec": {
   "display_name": "Python 3",
   "language": "python",
   "name": "python3"
  },
  "language_info": {
   "codemirror_mode": {
    "name": "ipython",
    "version": 3
   },
   "file_extension": ".py",
   "mimetype": "text/x-python",
   "name": "python",
   "nbconvert_exporter": "python",
   "pygments_lexer": "ipython3",
   "version": "3.12.8"
  }
 },
 "nbformat": 4,
 "nbformat_minor": 5
}
